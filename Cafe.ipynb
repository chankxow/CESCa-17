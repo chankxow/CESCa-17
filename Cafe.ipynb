{
 "cells": [
  {
   "cell_type": "code",
   "execution_count": 2,
   "metadata": {},
   "outputs": [
    {
     "name": "stdout",
     "output_type": "stream",
     "text": [
      "Mocha : 60\n",
      "Americano : 60\n",
      "Espresso : 70\n",
      "Late : 65\n",
      "Chankxow your of Late is ready!\n",
      "Thank you for purchasing!\n",
      "Mocha : 60\n",
      "Americano : 60\n",
      "Espresso : 70\n",
      "Late : 65\n",
      "Kanom your of Americano is ready!\n",
      "Thank you for purchasing!\n",
      "Current balance is 10125 THB\n",
      "Bye!\n"
     ]
    }
   ],
   "source": [
    "def check_balance(add_money):\n",
    "    global wallet\n",
    "    wallet += add_money\n",
    "    return wallet\n",
    "\n",
    "def price_order(user_need):\n",
    "    global my_order\n",
    "    for item in my_order.keys():\n",
    "      if user_need == item:\n",
    "        price = my_order[item]\n",
    "        return price\n",
    "      \n",
    "def get_order():\n",
    "    global my_order\n",
    "    for menu in my_order.keys():\n",
    "        print(menu, end=\" : \")\n",
    "        print(my_order[menu])\n",
    "\n",
    "    return my_order\n",
    "\n",
    "def get_user():\n",
    "    user_call = input(\"Type Y to order, Type C to check balance, Type X to exit the program Would you like to have an order? [Y/C/X] : \")\n",
    "    user_call = user_call.upper()\n",
    "    return user_call\n",
    "\n",
    "#valid = False\n",
    "my_order = {\"Mocha\" : 60, \"Americano\" : 60, \"Espresso\" : 70, \"Late\" : 65}\n",
    "\n",
    "wallet = 10000\n",
    "add_money = 0\n",
    "\n",
    "while True:\n",
    "\n",
    "    user_call = get_user()\n",
    "    if user_call == \"X\":\n",
    "        print(\"Bye!\")\n",
    "        break\n",
    "\n",
    "    elif user_call == \"Y\":\n",
    "        user_name = input(\"What is your name? \")\n",
    "        while True:\n",
    "            get_order()\n",
    "            user_need = input(\"I would like to order : \")\n",
    "            user_need = user_need[0].upper() + user_need[1:]\n",
    "            #print(user_need)\n",
    "\n",
    "            if user_need in my_order:\n",
    "                print(\"%s your of %s is ready!\" % (user_name, user_need))\n",
    "                print(\"Thank you for purchasing!\")\n",
    "                # add money\n",
    "                add_money = price_order(user_need)\n",
    "                check_balance(add_money)\n",
    "                break\n",
    "            else:\n",
    "                print(\"Please enter order again.\")\n",
    "                \n",
    "\n",
    "        # add_money = price_order(user_need)\n",
    "\n",
    "    elif user_call == \"C\":\n",
    "        print(\"Current balance is %s THB\" % wallet)"
   ]
  }
 ],
 "metadata": {
  "kernelspec": {
   "display_name": "Python 3",
   "language": "python",
   "name": "python3"
  },
  "language_info": {
   "codemirror_mode": {
    "name": "ipython",
    "version": 3
   },
   "file_extension": ".py",
   "mimetype": "text/x-python",
   "name": "python",
   "nbconvert_exporter": "python",
   "pygments_lexer": "ipython3",
   "version": "3.11.4"
  },
  "orig_nbformat": 4
 },
 "nbformat": 4,
 "nbformat_minor": 2
}
